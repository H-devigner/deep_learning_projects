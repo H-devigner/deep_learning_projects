{
 "cells": [
  {
   "cell_type": "code",
   "execution_count": 1,
   "metadata": {},
   "outputs": [
    {
     "name": "stdout",
     "output_type": "stream",
     "text": [
      "[[0.49999913]\n",
      " [0.5000001 ]\n",
      " [0.4999999 ]\n",
      " [0.50000086]]\n"
     ]
    }
   ],
   "source": [
    "import numpy as np\n",
    "\n",
    "class Neural_Network(object):\n",
    "    def __init__(self, inputSize=2, hiddenSize=3, outputSize=1, learning_rate=0.1):\n",
    "        # parameters\n",
    "        self.inputSize = inputSize\n",
    "        self.outputSize = outputSize\n",
    "        self.hiddenSize = hiddenSize\n",
    "        self.learning_rate = learning_rate\n",
    "\n",
    "        # weights\n",
    "        self.W1 = np.random.randn(self.inputSize, self.hiddenSize) * 0.01  \n",
    "        self.W2 = np.random.randn(self.hiddenSize, self.outputSize) * 0.01     \n",
    "\n",
    "    def forward(self, X):\n",
    "        # forward propagation through our network\n",
    "        self.z = np.dot(X, self.W1)  \n",
    "        self.z2 = self.sigmoid(self.z)  # activation function\n",
    "        self.z3 = np.dot(self.z2, self.W2)  \n",
    "        o = self.sigmoid(self.z3)  # final activation function\n",
    "        return o\n",
    "\n",
    "    def sigmoid(self, s):\n",
    "        # activation function\n",
    "        return 1 / (1 + np.exp(-s))\n",
    "\n",
    "    def sigmoidPrime(self, s):\n",
    "        # derivative of sigmoid\n",
    "        return s * (1 - s)\n",
    "\n",
    "    def backward(self, X, y, o):\n",
    "        # backward propagate through the network\n",
    "        self.o_error = y - o  # error in output\n",
    "        self.o_delta = self.o_error * self.sigmoidPrime(o)  # applying derivative of sigmoid to error\n",
    "\n",
    "        self.z2_error = self.o_delta.dot(self.W2.T)  # z2 error: how much our hidden layer weights contributed to output error\n",
    "        self.z2_delta = self.z2_error * self.sigmoidPrime(self.z2)  # applying derivative of sigmoid to z2 error\n",
    "\n",
    "        self.W1 += self.learning_rate * X.T.dot(self.z2_delta)  # adjusting first set (input --> hidden) weights\n",
    "        self.W2 += self.learning_rate * self.z2.T.dot(self.o_delta)  # adjusting second set (hidden --> output) weights\n",
    "\n",
    "    def train(self, X, y):\n",
    "        o = self.forward(X)\n",
    "        self.backward(X, y, o)\n",
    "\n",
    "# Example usage:\n",
    "X = np.array([[0,0],[0,1],[1,0],[1,1]])  # input dataset\n",
    "y = np.array([[0],[1],[1],[0]])  # output dataset\n",
    "\n",
    "nn = Neural_Network()\n",
    "for i in range(10000):  # train the network for 10000 epochs\n",
    "    nn.train(X, y)\n",
    "\n",
    "print(nn.forward(X))  # print predictions\n"
   ]
  }
 ],
 "metadata": {
  "kernelspec": {
   "display_name": "python312_venv_ml",
   "language": "python",
   "name": "python3"
  },
  "language_info": {
   "codemirror_mode": {
    "name": "ipython",
    "version": 3
   },
   "file_extension": ".py",
   "mimetype": "text/x-python",
   "name": "python",
   "nbconvert_exporter": "python",
   "pygments_lexer": "ipython3",
   "version": "3.12.5"
  }
 },
 "nbformat": 4,
 "nbformat_minor": 2
}
