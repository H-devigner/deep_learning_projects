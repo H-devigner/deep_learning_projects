{
 "cells": [
  {
   "cell_type": "code",
   "execution_count": 7,
   "metadata": {},
   "outputs": [],
   "source": [
    "import numpy as np\n",
    "import torch\n",
    "import torch.nn as nn"
   ]
  },
  {
   "cell_type": "code",
   "execution_count": 18,
   "metadata": {},
   "outputs": [],
   "source": [
    "class MyVIT(nn.Module):\n",
    "  def __init__(self, input_shape, n_patches=7, hidden_d=8):\n",
    "    super(MyVIT, self).__init__()\n",
    "    self.input_shape = input_shape # (C, H, W)\n",
    "    self.n_patches = n_patches\n",
    "    self.patch_size = (input_shape[1] / n_patches, input_shape[2] / n_patches)\n",
    "    self.input_d = int(input_shape[0] * self.patch_size[0] * self.patch_size[1])\n",
    "    \n",
    "    self.hidden_d = hidden_d # even if C > 1 we will keep this dimension and we pass each row vector of 16 to the linear mapper each time\n",
    "    \n",
    "    assert input_shape[1] % n_patches == 0, \"Height mst be divisible by number of patches\"\n",
    "    assert input_shape[2] % n_patches == 0, \"Width mst be divisible by number of patches\"\n",
    "    \n",
    "    # 1) linear mapper\n",
    "    self.linear_mapper = nn.Linear(self.input_d, self.hidden_d)\n",
    "    \n",
    "    # 2) classification token\n",
    "    self.class_token = nn.Parameter(torch.rand(1, self.hidden_d))\n",
    "    \n",
    "  def forward(self, images):\n",
    "    n, c, h, w = images.shape\n",
    "    # reshapes the images into patches\n",
    "    patches = images.reshape(n, self.n_patches ** 2, self.input_d)\n",
    "    \n",
    "    # running the patches into the linear mapper \n",
    "    tokens = self.linear_mapper(patches) # or embeddings\n",
    "    \n",
    "    # adding the classification token to the patches\n",
    "    patches = torch.stack([torch.vstack((self.class_token, tokens[i])) for i in range(len(tokens))])\n",
    "    \n",
    "    return tokens\n",
    "  \n",
    "  def __call__(self, images):\n",
    "    return self.forward(images)\n",
    "    "
   ]
  },
  {
   "cell_type": "code",
   "execution_count": 20,
   "metadata": {},
   "outputs": [
    {
     "name": "stdout",
     "output_type": "stream",
     "text": [
      "torch.Size([3, 49, 8])\n"
     ]
    }
   ],
   "source": [
    "# main program for testing purposes\n",
    "if __name__ == '__main__':\n",
    "  model = MyVIT(input_shape=(1, 28, 28))\n",
    "  images = torch.rand(3, 1, 28, 28)\n",
    "  print(model(images).shape)"
   ]
  }
 ],
 "metadata": {
  "kernelspec": {
   "display_name": "python312_venv_ml",
   "language": "python",
   "name": "python3"
  },
  "language_info": {
   "codemirror_mode": {
    "name": "ipython",
    "version": 3
   },
   "file_extension": ".py",
   "mimetype": "text/x-python",
   "name": "python",
   "nbconvert_exporter": "python",
   "pygments_lexer": "ipython3",
   "version": "3.12.5"
  }
 },
 "nbformat": 4,
 "nbformat_minor": 2
}
