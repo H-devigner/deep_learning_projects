{
 "cells": [
  {
   "cell_type": "code",
   "execution_count": 9,
   "metadata": {},
   "outputs": [],
   "source": [
    "import os\n",
    "import PIL.Image as Image\n",
    "import numpy as np\n",
    "import pandas as pd\n",
    "import matplotlib.pyplot as plt"
   ]
  },
  {
   "cell_type": "code",
   "execution_count": 40,
   "metadata": {},
   "outputs": [],
   "source": [
    "def load_images_from_folder(folder_path):\n",
    "  train_images = []\n",
    "  train_labels = []\n",
    "  test_images = []\n",
    "  test_labels = []\n",
    "  # at the first iteration i want it to catch the train data, and then the test ones at the second\n",
    "  iteration = 0\n",
    "  for subfolder_1 in os.listdir(folder_path): # train, test\n",
    "    print(subfolder_1)\n",
    "    subfolder_1_path = os.path.join(folder_path, subfolder_1)\n",
    "    for label, subfolder_2 in enumerate(os.listdir(subfolder_1_path)): # ants, bees\n",
    "      print(f\"At iteration {iteration} - {subfolder_1}, {subfolder_2}\")\n",
    "      subfolder_2_path = os.path.join(subfolder_1_path, subfolder_2) \n",
    "      for file in os.listdir(subfolder_2_path):\n",
    "        image_path = os.path.join(subfolder_2_path, file)\n",
    "        # print(file)\n",
    "        image = np.array(Image.open(image_path).resize((32, 32)))\n",
    "        if iteration == 0:\n",
    "          train_images.append(image)\n",
    "          train_labels.append(label)\n",
    "        else:\n",
    "          test_images.append(image)\n",
    "          test_labels.append(label)\n",
    "    iteration = 1\n",
    "  # return (np.array(train_images), np.array(train_labels)), (np.array(test_images), np.array(test_labels))"
   ]
  },
  {
   "cell_type": "code",
   "execution_count": 42,
   "metadata": {},
   "outputs": [
    {
     "name": "stdout",
     "output_type": "stream",
     "text": [
      "train\n",
      "At iteration 0 - train, ants\n",
      "At iteration 0 - train, bees\n",
      "val\n",
      "At iteration 1 - val, ants\n",
      "At iteration 1 - val, bees\n"
     ]
    },
    {
     "ename": "ValueError",
     "evalue": "setting an array element with a sequence. The requested array has an inhomogeneous shape after 3 dimensions. The detected shape was (245, 32, 32) + inhomogeneous part.",
     "output_type": "error",
     "traceback": [
      "\u001b[1;31m---------------------------------------------------------------------------\u001b[0m",
      "\u001b[1;31mValueError\u001b[0m                                Traceback (most recent call last)",
      "Cell \u001b[1;32mIn[42], line 4\u001b[0m\n\u001b[0;32m      2\u001b[0m image_path \u001b[38;5;241m=\u001b[39m \u001b[38;5;124mr\u001b[39m\u001b[38;5;124m'\u001b[39m\u001b[38;5;124mC:\u001b[39m\u001b[38;5;124m\\\u001b[39m\u001b[38;5;124mUsers\u001b[39m\u001b[38;5;124m\\\u001b[39m\u001b[38;5;124mHoucine DG\u001b[39m\u001b[38;5;124m\\\u001b[39m\u001b[38;5;124mOneDrive\u001b[39m\u001b[38;5;124m\\\u001b[39m\u001b[38;5;124mBureau\u001b[39m\u001b[38;5;124m\\\u001b[39m\u001b[38;5;124mMaster Data Science\u001b[39m\u001b[38;5;124m\\\u001b[39m\u001b[38;5;124ms3\u001b[39m\u001b[38;5;124m\\\u001b[39m\u001b[38;5;124mdeep learning medical - Afdel\u001b[39m\u001b[38;5;124m\\\u001b[39m\u001b[38;5;124mhymenoptera_data\u001b[39m\u001b[38;5;124m'\u001b[39m\n\u001b[0;32m      3\u001b[0m \u001b[38;5;66;03m# (train_images, train_labels), (test_images, test_labels) = load_images_from_folder(image_path)\u001b[39;00m\n\u001b[1;32m----> 4\u001b[0m \u001b[43mload_images_from_folder\u001b[49m\u001b[43m(\u001b[49m\u001b[43mimage_path\u001b[49m\u001b[43m)\u001b[49m\n",
      "Cell \u001b[1;32mIn[40], line 25\u001b[0m, in \u001b[0;36mload_images_from_folder\u001b[1;34m(folder_path)\u001b[0m\n\u001b[0;32m     23\u001b[0m         test_labels\u001b[38;5;241m.\u001b[39mappend(label)\n\u001b[0;32m     24\u001b[0m   iteration \u001b[38;5;241m=\u001b[39m \u001b[38;5;241m1\u001b[39m\n\u001b[1;32m---> 25\u001b[0m \u001b[38;5;28;01mreturn\u001b[39;00m (\u001b[43mnp\u001b[49m\u001b[38;5;241;43m.\u001b[39;49m\u001b[43marray\u001b[49m\u001b[43m(\u001b[49m\u001b[43mtrain_images\u001b[49m\u001b[43m)\u001b[49m, np\u001b[38;5;241m.\u001b[39marray(train_labels)), (np\u001b[38;5;241m.\u001b[39marray(test_images), np\u001b[38;5;241m.\u001b[39marray(test_labels))\n",
      "\u001b[1;31mValueError\u001b[0m: setting an array element with a sequence. The requested array has an inhomogeneous shape after 3 dimensions. The detected shape was (245, 32, 32) + inhomogeneous part."
     ]
    }
   ],
   "source": [
    "# load the images data using the built function\n",
    "image_path = r'C:\\Users\\Houcine DG\\OneDrive\\Bureau\\Master Data Science\\s3\\deep learning medical - Afdel\\hymenoptera_data'\n",
    "(train_images, train_labels), (test_images, test_labels) = load_images_from_folder(image_path)"
   ]
  }
 ],
 "metadata": {
  "kernelspec": {
   "display_name": "python312_venv_ml",
   "language": "python",
   "name": "python3"
  },
  "language_info": {
   "codemirror_mode": {
    "name": "ipython",
    "version": 3
   },
   "file_extension": ".py",
   "mimetype": "text/x-python",
   "name": "python",
   "nbconvert_exporter": "python",
   "pygments_lexer": "ipython3",
   "version": "3.12.5"
  }
 },
 "nbformat": 4,
 "nbformat_minor": 2
}
