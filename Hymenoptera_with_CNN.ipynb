{
 "cells": [
  {
   "cell_type": "code",
   "execution_count": 9,
   "metadata": {},
   "outputs": [],
   "source": [
    "import os\n",
    "import PIL.Image as Image\n",
    "import numpy as np\n",
    "import pandas as pd\n",
    "import matplotlib.pyplot as plt"
   ]
  },
  {
   "cell_type": "code",
   "execution_count": 61,
   "metadata": {},
   "outputs": [],
   "source": [
    "def load_images_from_folder(folder_path):\n",
    "  train_images = []\n",
    "  train_labels = []\n",
    "  test_images = []\n",
    "  test_labels = []\n",
    "  # at the first iteration want it to catch the train data, and then the test ones at the second\n",
    "  for iteration, subfolder_1 in enumerate(os.listdir(folder_path)): # train, test\n",
    "    print(f\"Loading from {subfolder_1}:\")\n",
    "    subfolder_1_path = os.path.join(folder_path, subfolder_1)\n",
    "    for label, subfolder_2 in enumerate(os.listdir(subfolder_1_path)): # ants, bees\n",
    "      print(f\"At iteration {iteration} - {subfolder_1}, {subfolder_2}\")\n",
    "      subfolder_2_path = os.path.join(subfolder_1_path, subfolder_2) \n",
    "      for file in os.listdir(subfolder_2_path):\n",
    "        image_path = os.path.join(subfolder_2_path, file)\n",
    "        try:\n",
    "          image = Image.open(image_path).convert('RGB').resize((32, 32))\n",
    "          image = np.array(image)\n",
    "          if iteration == 0:\n",
    "            train_images.append(image)\n",
    "            train_labels.append(label)\n",
    "          else:\n",
    "            test_images.append(image)\n",
    "            test_labels.append(label)\n",
    "        except Exception as e:\n",
    "          print(f\"Error loading image {image_path}: {e}\")\n",
    "  return (np.array(train_images), np.array(train_labels)), (np.array(test_images), np.array(test_labels))"
   ]
  },
  {
   "cell_type": "code",
   "execution_count": 62,
   "metadata": {},
   "outputs": [
    {
     "name": "stdout",
     "output_type": "stream",
     "text": [
      "Loading from train:\n",
      "At iteration 0 - train, ants\n",
      "At iteration 0 - train, bees\n",
      "Loading from val:\n",
      "At iteration 1 - val, ants\n",
      "At iteration 1 - val, bees\n"
     ]
    }
   ],
   "source": [
    "# load the images data using the built function\n",
    "image_path = r'C:\\Users\\Houcine DG\\OneDrive\\Bureau\\Master Data Science\\s3\\deep learning medical - Afdel\\hymenoptera_data'\n",
    "(train_images, train_labels), (test_images, test_labels) = load_images_from_folder(image_path)"
   ]
  },
  {
   "cell_type": "code",
   "execution_count": 66,
   "metadata": {},
   "outputs": [
    {
     "name": "stdout",
     "output_type": "stream",
     "text": [
      "train_images shape: (245, 32, 32, 3), test_images shape: (153, 32, 32, 3)\n",
      "train_labels shape: (245,), test_labels shape: (153,)\n"
     ]
    }
   ],
   "source": [
    "# print data shapes\n",
    "print(f\"train_images shape: {train_images.shape}, test_images shape: {test_images.shape}\")\n",
    "print(f\"train_labels shape: {train_labels.shape}, test_labels shape: {test_labels.shape}\")"
   ]
  },
  {
   "cell_type": "code",
   "execution_count": 74,
   "metadata": {},
   "outputs": [
    {
     "data": {
      "text/plain": [
       "Text(0.5, 1.0, '0')"
      ]
     },
     "execution_count": 74,
     "metadata": {},
     "output_type": "execute_result"
    },
    {
     "data": {
      "image/png": "[encoded data removed]",
      "text/plain": [
       "<Figure size 200x200 with 1 Axes>"
      ]
     },
     "metadata": {},
     "output_type": "display_data"
    }
   ],
   "source": [
    "# show the first traing image and its label\n",
    "plt.figure(figsize=(2, 2))\n",
    "plt.axis('off')\n",
    "plt.imshow(train_images[0])\n",
    "plt.title(train_labels[0])"
   ]
  }
 ],
 "metadata": {
  "kernelspec": {
   "display_name": "python312_venv_ml",
   "language": "python",
   "name": "python3"
  },
  "language_info": {
   "codemirror_mode": {
    "name": "ipython",
    "version": 3
   },
   "file_extension": ".py",
   "mimetype": "text/x-python",
   "name": "python",
   "nbconvert_exporter": "python",
   "pygments_lexer": "ipython3",
   "version": "3.12.5"
  }
 },
 "nbformat": 4,
 "nbformat_minor": 2
}
